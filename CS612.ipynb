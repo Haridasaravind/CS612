{
  "nbformat": 4,
  "nbformat_minor": 0,
  "metadata": {
    "colab": {
      "provenance": [],
      "authorship_tag": "ABX9TyP0Bd2fY/abQD617XOniO+p",
      "include_colab_link": true
    },
    "kernelspec": {
      "name": "python3",
      "display_name": "Python 3"
    },
    "language_info": {
      "name": "python"
    }
  },
  "cells": [
    {
      "cell_type": "markdown",
      "metadata": {
        "id": "view-in-github",
        "colab_type": "text"
      },
      "source": [
        "<a href=\"https://colab.research.google.com/github/Haridasaravind/CS612/blob/main/CS612.ipynb\" target=\"_parent\"><img src=\"https://colab.research.google.com/assets/colab-badge.svg\" alt=\"Open In Colab\"/></a>"
      ]
    },
    {
      "cell_type": "code",
      "execution_count": 1,
      "metadata": {
        "colab": {
          "base_uri": "https://localhost:8080/"
        },
        "id": "-K8ivuQU2crm",
        "outputId": "e73b2e9b-0aa8-4ec2-dbcd-eaf62504bc90"
      },
      "outputs": [
        {
          "output_type": "stream",
          "name": "stdout",
          "text": [
            "Looking in indexes: https://pypi.org/simple, https://us-python.pkg.dev/colab-wheels/public/simple/\n",
            "Requirement already satisfied: numpy in /usr/local/lib/python3.10/dist-packages (1.22.4)\n"
          ]
        }
      ],
      "source": [
        "!pip install numpy"
      ]
    },
    {
      "cell_type": "code",
      "source": [
        "!pip install biopython"
      ],
      "metadata": {
        "colab": {
          "base_uri": "https://localhost:8080/"
        },
        "id": "PsHokfEO2mf6",
        "outputId": "361e49a9-e8ac-4e59-85a0-b091fc68cec0"
      },
      "execution_count": 2,
      "outputs": [
        {
          "output_type": "stream",
          "name": "stdout",
          "text": [
            "Looking in indexes: https://pypi.org/simple, https://us-python.pkg.dev/colab-wheels/public/simple/\n",
            "Collecting biopython\n",
            "  Downloading biopython-1.81-cp310-cp310-manylinux_2_17_x86_64.manylinux2014_x86_64.whl (3.1 MB)\n",
            "\u001b[2K     \u001b[90m━━━━━━━━━━━━━━━━━━━━━━━━━━━━━━━━━━━━━━━━\u001b[0m \u001b[32m3.1/3.1 MB\u001b[0m \u001b[31m11.1 MB/s\u001b[0m eta \u001b[36m0:00:00\u001b[0m\n",
            "\u001b[?25hRequirement already satisfied: numpy in /usr/local/lib/python3.10/dist-packages (from biopython) (1.22.4)\n",
            "Installing collected packages: biopython\n",
            "Successfully installed biopython-1.81\n"
          ]
        }
      ]
    },
    {
      "cell_type": "code",
      "source": [
        "import os\n",
        "import random\n",
        "from Bio import SeqIO\n",
        "\n",
        "def read_fasta(directory='.'):\n",
        "    # Obtain a list of all files with the .fas extension in the specified directory\n",
        "    fas_files = [f for f in os.listdir(directory) if f.endswith('.fas')]\n",
        "    # Select a random .fas file from the list\n",
        "    selected_file = random.choice(fas_files)\n",
        "    print(f\"Selected File: {selected_file}\")\n",
        "\n",
        "    # Read the multiple sequence alignment (MSA) file\n",
        "    records = SeqIO.parse(os.path.join(directory, selected_file), \"fasta\")\n",
        "\n",
        "    # Dictionary to store sequences grouped by family\n",
        "    sequences_by_family = {}\n",
        "\n",
        "    # Process each sequence record\n",
        "    for record in records:\n",
        "        # Check if the record ID contains an underscore\n",
        "        if '_' in record.id:\n",
        "            # Extract family information from the record ID\n",
        "            family = record.id.split(\"_\")[1]\n",
        "\n",
        "            # Add the sequence to the corresponding family in the dictionary\n",
        "            if family in sequences_by_family:\n",
        "                sequences_by_family[family].append(record.seq)\n",
        "            else:\n",
        "                sequences_by_family[family] = [record.seq]\n",
        "        else:\n",
        "            print(f\"Warning: Skipping record with ID '{record.id}' because it does not contain an underscore\")\n",
        "\n",
        "    # Print summary statistics\n",
        "    total_sequences = sum(len(sequences) for sequences in sequences_by_family.values())\n",
        "    print(f\"Total sequences: {total_sequences}\")\n",
        "    \n",
        "    # Uncomment the following code to print the unique families\n",
        "    # print(f\"Total unique families: {len(sequences_by_family)}\")\n",
        "    # for family, sequences in sequences_by_family.items():\n",
        "    #     print(f\"Family {family}: {len(sequences)} sequences\")\n",
        "\n",
        "    # Uncomment the following code to print the sequences grouped by family\n",
        "    # for family, sequences in sequences_by_family.items():\n",
        "    #     print(f\"\\nFamily: {family}\")\n",
        "    #     for sequence in sequences:\n",
        "    #         print(sequence)\n",
        "    \n",
        "    return sequences_by_family\n",
        "\n",
        "sequences = read_fasta()\n",
        "\n",
        "print(sequences)"
      ],
      "metadata": {
        "colab": {
          "base_uri": "https://localhost:8080/"
        },
        "id": "8pjbEgOe2s3Q",
        "outputId": "90020f95-691a-4c4a-fa88-78026fb2ac77"
      },
      "execution_count": 8,
      "outputs": [
        {
          "output_type": "stream",
          "name": "stdout",
          "text": [
            "Selected File: YEFM_YOEB_20_id90.fas\n",
            "Warning: Skipping record with ID 'null' because it does not contain an underscore\n",
            "Total sequences: 267\n",
            "{'E0ELC3': [Seq('MQAITYTEARQNLAGTMSKVAEDFEPILITRSKGGNCVLMSYEQYSSLEETAYL...YHY')], 'F0TL51': [Seq('MFVASVSDFRKDIKSYFDRVTKNFETLIINRGKDSGIVVMSLDEYNSLMATNHE...FHY')], 'F9HHN3': [Seq('MEAVVYSNFRNNLKEYMKKVNDEYEPLMVVNKNPEDIVVLSKDNWDSIQETIRL...DHY')], 'C1DS88': [Seq('----------------MERVNDDRAPILITRQKGEPVVMMSLADYNAFEETAYL...YRY')], 'B5W4K1': [Seq('--ETTYSQARMNLATILDEVCDQRQIVVIKRPNEKNVALIAEDELESLLECVYL...YHY')], 'E6QCC1': [Seq('MHVVSYSEARDNLKAVMDRAVEDADVTIITRRGSSNAVLLSQDLFDSLMETVHL...YHY')], 'E6QQB2': [Seq('MDAMTYTTVRANLASTMDRVCNDHEALIITRNGEQAVVMLSLEDFKALEETAYL...FHY')], 'E4ILX7': [Seq('MEAVAYSNFRQNLRSYMKQVNEDAETLIVTSKDVETVVVLSKRDYDSMQETLRT...DHY')], 'D9WTC5': [Seq('-MPITASEARQNLFPLIEQVNEDHAPVHITSRKGNA-VLMSEEDFTSWTETVHL...YHY')], 'C6ZFQ6': [Seq('MQTVNYSTFRSELSDSMDRVTKNHSPMIVTRSKKEAVVMMSLEDFKAYEETAYL...YHY')], 'B9JZQ1': [Seq('MDTVFFSKARAELAGLLDKVNEDASAVEIVRRDKPSAVLMSKEEYESMVETLHL...YHY')], 'G2PLF3': [Seq('MQITSVSDFRKDIKTYLDRVVKDFETLVINRGKDSGIVVMSLQEYNSLMATSHE...FHY')], 'D8PFQ8': [Seq('MDAITYTTVRANLASAMDRVCEDHEALIITRNGEQSVVMLSLEDYKALEETAYL...FHY')], 'E1R2A3': [Seq('MRIMTYTNARNNLRQLIDDVVDTSTETVITSKEGRDVVVMSLADYNGWTTTNHL...FHY')], 'E3H166': [Seq('MKTMSYTESRARYAEVLDHVEDHREEVIITRAGHEPAVILSLSEYESLQETAYL...YHY')], 'E2MJP4': [Seq('MQVLSFSQARAGLKQAMDDVCRDHEPALITRLRGDHVVMLSLDDYNSMSETMYL...HHY')], 'Q0FUX1': [Seq('MNVMTYTDARNGLAKALDKVVEDREELVITRTGREGVVMVAQEEWDAIQTTLYL...FHY')], 'A7BYH2': [Seq('MDAVTVNHATQHLNHLIGQVISNVEPTIICNDQGEKALLMSLDEFNAWQETLYL...YHY')], 'A7BXG0': [Seq('MDAITYTYARNNLAKTMQQACDNHEPIIVTRENESAVVMMSLEDFQSIEETAYL...HHY')], 'A5UUX1': [Seq('--QTTYTQACARLAALLDDVVNNRDIVIIQRRSGEDVALIAADELQSLLETVHL...YHS')], 'F7JKZ0': [Seq('MLAVNYTELRGNLREYMDKVSDDFET-IVTRKKNKNIVMISEETYNNMIENMYL...YHY')], 'I0SIL5': [Seq('MEAVVYSNFRNNLKNYMKKVNDEYEPLMVVNKNPDNIVVLSKENWDSIQETIRL...DHY')], 'Q21JM4': [Seq('MDALSYTAARANLAKTMEKVCNDHAPVIITRKSEAPVVMVSLADYQAMEETAYL...YHY')], 'B4VEP7': [Seq('-MSISASEARATLFPLIERVNTDHDPVRITSKNGDA-VLMSADDYDSWQETVYL...YHY')], 'F4EDX4': [Seq('MEAIVYSHFRNHLKDYMKKVNDEFEPLVVVNKNPEDIVVLSKSEWDSLQETLAV...DHY')], 'B8FB05': [Seq('AIQTTYTHARAHLASLLNEVSENREVVIIQRRGHEDVALISAVELGGILETAHL...YHY')], 'H0JAK9': [Seq('MHVLTFSQARADLKQTMDDVCRDHEPAVITRQRGEPVVMISLDDYNGMRETMYL...FHY')], 'Q6DA19': [Seq('MRTISYSEARQNLSATMMKTVEDRAPILITRQNGEACVLMSLEEYNSLEETAYL...YHY')], 'G0JQ42': [Seq('MDAITYTTVRANLASAMDRVCDDHEPLIITRNGEQSVVMLSLEDYKALEETAYL...FHY')], 'I1ZKJ3': [Seq('MEAVVYSTFRNHLKDYMKKVNDEFEPLTVVNKNPDDIVVISKSEWDSLQETLRL...DHY')], 'C2GU16': [Seq('-QAVAYSNFRANLKTYMRRVNEDADTLLVTNADPEDVVVMSADDYDSLMETLRV...DHY')], 'F6CEX3': [Seq('MDAVNYSNFRKDLKTYFKQVNDDSEPLIVTNKNEDNVVVLSKDEYDALIETLAI...DHY')], 'Q0RYC5': [Seq('MRTMTYSESRARYAEVLNAVVDDREEIVITRAGHEPVVMVSLDDYESLKETAYL...YHF')], 'C3PKH0': [Seq('MKTMSYSESRARYAEVLQSVVDDREEVIITRSGHESAVIVSLDDYNSLRETAYL...YHY')], 'I4WA44': [Seq('MDTITYTKARSSLAETMERVCEDHAPVIITKK-EESVVMMSLADYQSMEETAYL...YHY')], 'B3PCR7': [Seq('MNVTTFSDARNNLKSLLDRVTQDADCTIITRRDAGDAVVMSLDYYNSLMETVHL...YHY')], 'B8GT05': [Seq('MDAITYTKARANLAQTIDAVCENHEPVIVTKKNDRAVVILSLEDYQALEETAYL...YHY')], 'F9ECY4': [Seq('MKTMTYTESRAHYAEVLDSVVDDCEEVVIVRAGHEPAVIVSLAEYQSLKETDHL...QHY')], 'E6WXQ3': [Seq('MRAVNYSHARNNLKSLIDDVDQNFEEYLITTKNNTKAMLISVDEYNAMKETLYL...FHY')], 'E6WIZ8': [Seq('MRTITYSEARQHLSETMMKTVEDRAPILITRQNGDDCVLMSLEEYNSLEETAYL...YHY')], 'E6WLQ1': [Seq('MHTLTFTDARKHFADTMQRVSDNAEPVRILRRDAPDVVMIDAAEYDAMIETLYL...FYY')], 'Q13P62': [Seq('MNVLTYSEARAGFKQAMDDVCRDHIPMLITRQTGENVVMVSLADFNAMQETLYL...FHY')], 'A1WU36': [Seq('METISYTDARNHLKELIDRVGTDHTPVRIERRGGSAAVIMAEEDYTGLQETLYL...FHY')], 'A1WV58': [Seq('MDAISYTAARRQLASTMDKVCEDHAPIIITRNKAQSVVMISLEDYEALQETAYL...YHY')], 'I4BA52': [Seq('-DAVSYSDLRKNLKKYMDDVYTGHYPLIITRKNDEN-VMISLDEFNSLQETNYL...YHY')], 'E8W2V8': [Seq('VRTMTYTESRARYAETLDAVVDDREEVIVTRAGHDPVVIVALDEYESLKETAYL...YHY')], 'Q0RN03': [Seq('VKTMSYSESRARYAEVLTAVADDREEIVITRAGHEPVVIVSLDDYQSLKETAYL...YHY')], 'A8RFD5': [Seq('MIAINYSTLRQNMKKYFDSVSDDYET-VITRKENKNVVVISEETYNNLIENAYL...FHY')], 'B9CUQ3': [Seq('MPSVNYSNARQNFKELITKVNEDSVAYTITTKENENAVILAEKDYNAMLETMYL...FHY')], 'D3RN14': [Seq('MDAISYTAARANLAKTMEKVCDDHAPVIITRKSESPVVMISLEDYQAMEETAYL...YHY')], 'I3C9P5': [Seq('MQITTVSDFRKDIKTYLDRVVENFETLIINRGKDSGIVVMSLQEYNSLMATNHE...FHY')], 'F7Q3U9': [Seq('MDAISYTAARTNLARTMEQVCEDHSPMIITRNKARSVVMMSLEDYEALQETAYL...YHY')], 'F5UKZ4': [Seq('--EITYTEAEANFKDFCDRAVETGEVIVITRPNGKNAVLISEAELESLLETLYL...YHY')], 'D4ZD64': [Seq('MSVYSFTEVRSNFKSVCDSVVNDCEPAVIHRRGAENVVMFSESEFNSWKETIYL...FHY')], 'I1XH98': [Seq('MDAISYTAARTNLAKTMEQVCEDHSPVIITRSKSQSVVMISLDDYEALQETTYL...YHY')], 'I1XGX4': [Seq('MKIVSFSEARNSLKTVLDGVVNDADTTIITRRDAEDAVVMSLDYFNGLMETVHL...YHY')], 'C3K1T8': [Seq('METINYTNARAHLSETMDRVNEDHVPLLVTRQKGEPVVMISLSEFNALEETAYL...YHY')], 'A4X007': [Seq('MNILTYTDARKHLKSVMDSAIHDKEETVITRAGQEAVVVVGKEEWDAIQATLHL...YHY')], 'H8P156': [Seq('MHSLTFTDARKHFAETMQQVSDNAEPVRILRRDAPDVVLIDAAEYDAILETLYL...YHY')], 'Q5P6U3': [Seq('MRVVNFSEARNNLKNVIDQVIDDADYTVIARRDAPDAVVMSLDTFNGLMETVHL...YHY')], 'Q49UF5': [Seq('MTVKNYTFVRDNFRDMINKVNDDSDTITIT-TKDRNAVLMSEDDYDAIMETLYL...YHY')], 'D0KX96': [Seq('MNAISYTAARANFAKTMEKVCNDHHPIIITRKQEAPVVMISLEDYQAMEETAYL...YQY')], 'Q663E6': [Seq('MRTVNYSEARQNLAATMVKTVEDRAPVLITRQNGSACVLMSLEEYESLEETAYL...YHY')], 'D5C0A1': [Seq('MDSVSVNKFRDNLKTLVEQVVSRHAPLK-TRRGG--FVVLSAEDWEREQETLFV...GHY')], 'A6AXQ4': [Seq('MRIVSFTEARNGLKAVLDGVVNDADTTVITRRDSEDAVVMSLDYYNSLMETVHL...YHY')], 'D5H001': [Seq('MDAVNYSNFRKNLKHYFKQVNDDSEPLIVTNKEEDNVVVLGKEDYDALVETLEI...DHY')], 'D3VB02': [Seq('MNVMSYSAFRTHLAKTLDKVNDDHQPVMITRQNGKPAVVLSLEDFRAYEETAYL...YHY')], 'F2G9M4': [Seq('MRIVSFTEARNGLKAVLDNVINDADTTVITRRDSEDAVVMSLDYYNSLMETVHL...YHY')], 'I3Z1F6': [Seq('MQITTVSEFRKDIKTYLDRVAKNFETLIINRGKDSGIVVMSLQEYNSLMATNHE...FHY')], 'G4DJU2': [Seq('MDAITYTTVRANLSKTMDRVCSDHEALIITRNGQQSVVMLSLEDYKALEETAYL...FHY')], 'I3IC36': [Seq('---MSYTAFRNDLASVLDKVNDDHKPVLITRQNGKPAVVISLEDFQAYEETAYL...YHY')], 'C7NJ01': [Seq('MKTLSYTESRRRYAEVLDHVVDDREEVVITRAGHEPVVIVSLEEYESLRETAYL...YHY')], 'F9D396': [Seq('MRTTNYTDLRNNLKGYFDKVVDDCEPLIVHRGDKESVVIISMEEYNAIKETEYI...--Y')], 'E8Y1A8': [Seq('MRHITFTEARTNFANILNQVSDDADTVVITRRGSRDVVMLDADEYSSMVETLYL...FHY')], 'E6SBQ5': [Seq('MKTMSYTESRARYAEVLDGVANDREEVVITRAGHEPVVIVSLEDYESLRETAYL...YHY')], 'A6DZ93': [Seq('MDVFTYTDARASLKEVMDRVIHDRTEVVVTRKNREAVVMISLDEYNAIQETLHL...YHY')], 'I0RU87': [Seq('-MSISASEARRRLFPLLEQVNTDHEPVRITSRTGDA-VLMSADDFDSWQETVYL...---')], 'E1YA88': [Seq('AIQTTYTHARESLASLLDEVTKNREVVIIQRRGSEDVAMITADELAGVLETAHL...YHY')], 'E1YJS4': [Seq('MRAITYSDARKNLRTLIQNVCKDSEPAIISRPEEQ-VVLVSLDDFQSMEETAYL...YHY')], 'E0M3B7': [Seq('MRAISYSEARQNLSATMVQTVEDKAPVLITRQNGESCVLMSLDEYNSLEETAYL...YHY')], 'C2KUP0': [Seq('MEAVAYSNFRQNLKQYMKQVNEDADALIVTAKDAETVVVLSKREYDSLQESLRI...DYY')], 'A3YCW8': [Seq('MDAMSYTAARANLAKTMEKVCDDHSPVIITRKSERPVVMISLEDYEAMQETTYL...YHY')], 'A6H2C6': [Seq('MVVANISDFRKDIKSYFDRVAINFETLIINRGKDSGIVVISLEEYNSLIATNYE...HHY')], 'F2BF21': [Seq('MYAVHASELRKNLAATLDRVADNAEPVLITRSGGAAAVLLDINEYNALAETAYL...YHY')], 'G6I4Z7': [Seq('MIATSYSSVRQNFKKYCDKAVNDFET-IITRERGENVVMLSEAEYNNLLENLYV...GHY')], 'G1V4Z0': [Seq('SQAITYSEARQNLAETMSRVCDHHEPVIITRQKSPSVVMMSLEDYNSIMETAYL...YHY')], 'A8IME7': [Seq('MDVLSYSDTRANLKEVMDRVVEDHAPVVITRQKAEAVVMVSLSDWSAMEETLHL...YHY')], 'A4C403': [Seq('MRIVSFTEARNSLKSVLDAVVNDADTTVITRRDSEDAVVMSLDYYNSLMETVHL...YHY')], 'F9NU02': [Seq('MKTLSYTESRASYAQVLDDVVNNREETIITRAGHEPVVIVSLADYESLRETAYL...YHY')], 'A9DLP4': [Seq('MDAISYTSARANLASTMAQVCNDHAPIIITRKSEAPVVMMSLEDYQAMEETTYL...YHY')], 'C5QNH4': [Seq('MPSINYSNARQNFKELISKVNEDSVTYTITTKEDKNAVILAEKDYNAILETMYL...FHY')], 'D3LMN2': [Seq('-MSISASEARKTLFPLIERVNADRDAVEIVSRKGNA-VLMPADEYAAWQETAYL...YHY')], 'E8WNT2': [Seq('MQARTYSEARHDLKNVMDEACNNHEPILITRRKGESVVLLSLEDYESIVESEYL...FHY')], 'H1QEN2': [Seq('------TELRKNLASAIDRVTADHDYTIITRDGGKA-VLMSLEDFASWHETDYL...YHY')], 'C7NA90': [Seq('MIATNYSNIRNNFKKYCDKATRDYETIIVTRKNDENVVLMSEEEYNNLMENLYI...NHY')], 'A6W2J0': [Seq('MDAISYTTARANLAKTMAKVCDDHSPVIITRKSESPVVMMSLEDYEAMQETTYL...YHY')], 'H8GIE7': [Seq('TIETTYSQAREQLKTLMDRAVDDHEVIVVRRRSGGAVAMIAADELESLLETAHL...YHY')], 'A1VU73': [Seq('MNAITYSAARANLASTMNRVCNDHEALIITRNGQQSVVMLSLEDFQALEETAYL...YHY')], 'G2GA88': [Seq('-MTINASEARKDFFGLIRRVTEDHAPERVTSKAGTV-VIMSEEDYNAWEETMYL...DRY')], 'G5SVT2': [Seq('MRTANYSELRNKLKHYLDGVINDSEPLLVHRPGNESVVVMSLDEYNSIKETEYI...YYY')], 'F5XGN9': [Seq('MKTMSYTESRAKYAEVLDAVVNDREEVVITRAGHEPAVIVSLDDYESLKETAYL...YHY')], 'G4J064': [Seq('MRTMTYSESRAKYAETLDSVVEDREEVVITRAGHEPVVMVSLEDYEALKETAYL...YHY')], 'D4J7L3': [Seq('MLAVNYTCLRDNMKRYMDQVTDDYET-IVTRKNNKNVVMMSEEMYNNLMENVHI...YHY')], 'D3PM77': [Seq('-IETSYSLAREQLATLLDRVTNDLEVVIINRRNGKR-VMIDADEYERLMETVHL...YHY')], 'F7MDC4': [Seq('MIATNYSEVRNNLKTYCDKATKDYETIIITRKNNENVVLMSEEEYNNLMENLYI...GHY')], 'E5CPW6': [Seq('MTVLTYSNARKDFRKLIDKVNDDSDTVTIT-TNDRNAVLISEDDYNSIMETLYL...YHY')], 'A8YM25': [Seq('-KETTYSQARMNLAGILDQVCDESQIIVIKRRNQKNVALIAEDELSSLLECVYL...YHY')], 'F2I645': [Seq('MEVTNYSDFRQNMKKYMDQINEDAIEYTVTSQNGNDVVVMAKSDFDSLMETYHL...YHY')], 'Q88IQ9': [Seq('MHVLTFSQARAELKQTMDDVCRDHEPAVITRQRGEPVVMMSLEDYNGMNETIHL...YHY')], 'A3J9U0': [Seq('MDAISYTAARTNLAKTMDQVCEDRSPIIITRSKSQSVVMISLEDYEALQETAYL...YHY')], 'G7ZF27': [Seq('MGHISYTDLRNNLASVMDEVCDSRAPLTVTRQKGRSVVMISEEEFEGLMETLHL...YHY')], 'A9KH07': [Seq('MNVVTFSELRAQLKKILDLSADQHEPVVVKRPNKETMVILSLRDFEALKETAYL...FHY')], 'G4E2T4': [Seq('MDAISYTAARSNLAKTMEQVCEDHSPVIITRSKSPSVVMISLEDYEALQETAYL...YHY')], 'F0BZS9': [Seq('MDTITYSAARASLADTMDRVVNDHEPVIITRSGERAVVMVSLEDYKAMEETAYL...YHY')], 'Q82UX1': [Seq('MKVVTYSHARNALKSILDDVIQDADVIVISRRDAEDAVVMSLDSYNSIMETLHL...FHY')], 'Q82WG6': [Seq('MDAITYSTARAKLADTMNRVCDNHEPIIITRNGEQSVVMMSLDDFKALEETSYL...YHY')], 'A1ART3': [Seq('MRVVNFSDARNHLKHVIDQTIEDSDYTIISRRDSPGAVLMSLDTFNSLMETVHL...YHY')], 'D6SQ06': [Seq('AIQTTYTHARAKLSSLLDAVTQDREVVIIQRRGQEDVALISADELAGIFETAHL...YHY')], 'D4KI59': [Seq('MLAVNYSTIRNKLKNYCDEATDNNQTIIVTRKAEKNVVILSLEKYNRLMKIV--...GHY')], 'C7QYS1': [Seq('-MSISASEARKTLFPLIERVNQDHEAIEIVSRKGNA-VLMPADEYAAWQETAYL...YHY')], 'G8S4Y5': [Seq('TSAISASEARKSLFPLIERVNLDH-PIEIVSK-RGNAVLVSKEDWDSIMETNYL...YHH')], 'D3V8N8': [Seq('MKVLTYSEARQNLSETMISVVNDCSPAIITRKNGESCVLMSLSDYESLQETAYL...YLY')], 'G6KL77': [Seq('MEAVLYSTFRNHLKDYMKKVNDEFEPLTVVNKNPDDIVVLSKSEWDSIQETLRI...DHY')], 'F4XQH5': [Seq('MQSISYTSARGNLAKTMEKVCQDHAPVAITRKGEGAVVMISMEDYQSLEETAYL...---')], 'D6EHG4': [Seq('-MSITASEARQNLFPLIEQVNEDHAPVHITSRKGNA-VLMSEEDFTAWTETVHL...YHY')], 'D4U281': [Seq('MKIMTYTESRAHYAEVLDQVVNDREEIVITRQGHESVVIMALDEYESLMETVYL...FHY')], 'F7L0U9': [Seq('MIATNYSEVRNNLKTYCDKATKDYETIIITRKNNENVVLMSEEEYNNLMENLYI...NHY')], 'C2KNS0': [Seq('MTTLSATSARSHLYQLIDQVNQESAPITITGQRG-NAILIGEADWQAIQETLYL...GHY')], 'I0HCE9': [Seq('MKVITASDLRANLANVFDAIENDAEHLVVTRSGHEPMVVMPKSDYDAWRETEYL...HHY')], 'A5U831': [Seq('-MSISASEARQRLFPLIEQVNTDHQPVRITSRAGDA-VLMSADDYDAWQETVYL...YHY')], 'E8QCE2': [Seq('MEAVVYSNFRNNLKDYMKKVNDEYEPLMVVNKNPENIVVLSKDNWDSIQETIRI...DHY')], 'C2JUK3': [Seq('MEATNYSDFRRNLKHYMSQVNEDAEPLLVTAKDDDNVVVMSKHDFDAIEETLYL...THY')], 'E0P089': [Seq('MVAVNFSTLRSNLKSYCDAAARDAET-VVTRRNEENVVLMSLESYNNLMENVFL...GHY')], 'F3LFT3': [Seq('MRVINFSDARSRLKSVLDQVVDDADYTIINRRDAGDAVIMSLDQFNGLMETVHL...YHY')], 'B0V3W6': [Seq('MHVFTYTDARNNLKSVLDKVIDDVDVAFITRKEGGHAVVMGQDHYDSLMETLYL...FHY')], 'G7LM79': [Seq('MRTVSYSEARQNLSATMVKTVEDNAPILITRQNGEACVLMSLEEYNSLEETAYL...YHY')], 'G7LTY6': [Seq('MAHVRLTEFRQNIAAHFDQVISSRAPLLVTRQGSEAMVMLAEGEYESILETLHL...FHY')], 'B9NX01': [Seq('MRATTYTDFRRNLSATIDGVADDHEPVLITRSGGKAAVLMSLEDFAAFEETRYL...YHY')], 'H3YKY6': [Seq('MIIKNYSYARQNLKALMTKVNDDSDMVTVTSTDDKNVVIMSESDYNSMMETLYL...YHY')], 'G9WX39': [Seq('MIAVNYTTMRNNLKEYCDLATDNGETIIITRKEDKNVVVLSLEQFNEMEKEL--...GHY')], 'D3HDF8': [Seq('MEAVAYSNFRQNLKHYMKQVNDDAEPLIVTSKNIDTVVVLSKRDYDSMQETFRI...DHY')], 'C4YXE4': [Seq('MEAISYTKARNNFADIMERVCVDHTSVVVTRQKQKPVVIMSLEDYNAMEETLYL...YHY')], 'G6FMQ8': [Seq('--ITSPTDARNDFFKLLDLVVENHQVYIINRRGGENVALIAESDLVSLVETVYL...YHY')], 'I1DY11': [Seq('MKVVSFTEARNSLKAVLDAVVNDADTTVITRRDAEDAVVMSLDYYNSLMETVHL...YHY')], 'B5JSV7': [Seq('MRVINFSDARNKLKSVLDQVVSDADYTVITRRDSEDAVVMSLDQFNGLMETVHL...YHY')], 'A6FHK8': [Seq('MSVVTFSEARNNFKSICDSAVDDCEPVHIHRRGGEDVVLLSASEFNAWKETMYL...FHY')], 'H0TR85': [Seq('MAHVSYSELRNNLATYMDAVCDDRA-LVVTRQNARSVVLISEEEYEALMETVHL...YHY')], 'G4SYZ4': [Seq('MKVVTYSHARNALKSILDEVVKDADVIIISRRDAEDAVVMSLDSYNSIMETLHL...FHY')], 'G4SWU6': [Seq('MDAISYTAARANLAKTMEKVCNDHEPVIITRKRESPVVMISLEDFQSMEETAYL...YHY')], 'I4A109': [Seq('MLVTNISEFRKDLKSYLNKVAKNFETLIINRGKESAIVVLSLDEYNSLMATNYE...FHY')], 'Q8KPS5': [Seq('MKVVSFSDARKNLKTVLDEVVNDADYTIITRRNAEEVVVMSLDSFNSLIETFHL...YHY')], 'H2BWN7': [Seq('METVNYTEFRANLKHWFDKVVNDVSDIIIRRKSGKDLVLISLDEYNSLKETTYL...YHY')], 'C0GDA4': [Seq('MIAISYSAIRQRFKEFCDKATNDFET-IITRERGENVVMLSESEYNNLLENLYV...NHY')], 'G2I8S6': [Seq('MTYVSYTDLRQNLAHYLDEAVNSRA-IVVTRKTGKSVVLMSEEEFSGWQETVHL...FHY')], 'G4AT73': [Seq('MNVISYSAFRAELATTLDQVVADHSPVMITRQNGKHAVVMSLEDFAAYEETAYL...YHY')], 'Q21DC9': [Seq('MSHISYSELRKNLASYMDEVCDSRA-LHVTRQNARTVVMMAEDDYDGLMETVHL...YHY')], 'D6K2Y4': [Seq('-MTISASEARRDLFPLIKRVNDDHTPVHISSRGGDA-VLMSAADYDSWQETVYL...YHY')], 'C4K5B9': [Seq('MRAVSYSEARQNLSTTMIQTIEDRAPVLITRQNGESCVLMSLDEYNSLEETAYL...YHY')], 'H3WH94': [Seq('MLVKNYSNARQNLKALMKQVNNDSDVVTVTSTDNKNVVMMAESDYNAMMETLYL...YHY')], 'D9UR45': [Seq('MKTMSYTESRKHYAETLDAVVDDREEVVITRAGHEPVVIVALDDYQALKETAHL...YHY')], 'I4IBE7': [Seq('--QTTYTQAQENLASLLDRLESENSMAIITRPGHKDMALLSAEELTGLLETVYL...YHY')], 'Q0ANU3': [Seq('-RILSISEARAALKDLVERVTADKAPAIITRQGGEPVVMVALSEWEALQETNYL...RHY')], 'I2GB93': [Seq('MQVVNYSEFRRSMKAKLDQVSDDGDMVIINRSENKNVVLISLREYNSMKETLHL...YHY')], 'H8KLQ9': [Seq('MKVINYSDLRENLKSNLDYALED--EVTVKRPKGKGVVILSEENYTSIMETLHL...FHY')], 'H8KN13': [Seq('MEITTYSYFRQNLKTFLDKVLSSHSPLFVTRNNGEDVVVLSKSDYESMQETFYL...YHY')], 'H8KW66': [Seq('MLTTTISDFRKDIKKYFDEVSKNLETLIINRGKDNGIVIMSLAEYNSLLATSHE...FHY')], 'Q2J9X4': [Seq('VAAISASEARKTLFPLLEQVNADH-PVEIVSK-RGNAVLVSKEDWDAIVETNYL...YHY')], 'I4ZQH4': [Seq('MQVFTYTDVRNNLKSVLDKVIEDADVAVITRKEGSHAVVMGQEHYDSLMETLHL...FHY')], 'G9PEG7': [Seq('MKTMTYTESRARYAEVLDQVVNDREEIVITRQGHESAVIIALDEYESLMETVYL...FHY')], 'I4DIA1': [Seq('MDAITYTHARANLAGTMDRVCNDHEPVIITRNGDQSVVILSLEDFQALEETAYL...YHY')], 'B5EBR7': [Seq('MNSITYSSVRSKLAETMEKVCDDHAPVIITRKAAKPVVMMSLDDYEALEETAYL...YHY')], 'F6EL47': [Seq('MKTMSYTESRARYAEVLDGVTNDREEVVITRAGHEPVVMVSLDDYESLRETAHL...YHY')], 'G2J8N9': [Seq('MRVISFSEARNTLKSVIDRVIHDADVTVIKRRNDPDAIIMSLDCYNSLMETVHL...YHY')], 'I3YHX7': [Seq('MRTANYSDLRQNLKTYIDSVIEDSDTVIINRGGGAGVVLMSLDEYNSIKETEYL...YHY')], 'D2F0Z0': [Seq('MRTANYTDLRANLKGYIDSVIDDCDTVLINRGNGTGVVMISLEEYNSLKETEYI...YHY')], 'G5KDV0': [Seq('MEAIVYSHFRNNLKDYMKKVNDEFEPLIVVNKNPDNIVVLSQDSWESLQETIRL...DHY')], 'A3UQS0': [Seq('MNIVSFTEARNSLKSVLDRVVDDSDVTVITRRDSEDAVVMSLDHFNSMQETLYL...HHY')], 'H3ZCL2': [Seq('MDTISVNKFRDNMKSVVEEVINRHEPLK-TRRAG--FVVISADDWEREQETLYI...GHY')], 'H3ZJ46': [Seq('MRIVSFTEARNNLKSVLDSVVNDADTAVITRRDAEDAVVMSLDYYNSLMETVHL...YHY')], 'Q82IF2': [Seq('-MSITASEARKALFPLIKKVNDDHEAIEIVSKHGNA-VLVSAEDYAALREGSYL...YHY')], 'G5JF62': [Seq('MTVITYSNARKNFRQLIDNVNDNAEAITIT-TNDRNAVLLSEADYNSIMETLYL...YHY')], 'Q1Z2N4': [Seq('MEIYTYSEARQNLKSVMDKVESNCEEAIIHRRDGENMVLMSESEYNGWIETMRI...EHY')], 'A8ZPP8': [Seq('--DISYTQARANLTDTLNDVEDNRSIVVIRRRGRPGVALIAEDELTSLMETVHL...FHY')], 'B0BYN6': [Seq('--TLSYSQARANFAETLNDVEDNRSIVIVQRPNRPGVALIAADELSSMMETVHL...YHY')], 'B0C969': [Seq('--SHSASHVRQNFFKVLDEVTQDRNVVLIERRDAPDVAIISADELTSMMESLYL...YHY')], 'D1KD77': [Seq('MRTVNFTEARNHLKTVLDQVVEDADYTVISRRDAEDTVVMSLSQFNGWMETMYL...YHY')], 'A3W8L0': [Seq('MDVMTYSDARAQLKGVMDRAIHDKQEVIVTRKKGESVVVVSLETWNAVNETLHL...FHY')], 'B6WT68': [Seq('SQAITYTEARQNLAETMNRVCDHHEPVIITRQKSPSVVLMSLEDYNAIMETAYL...YHY')], 'I3D869': [Seq('MQAISYSQARQTLAKTMTSVVENYEPVLITRTTGEDCVLISLAHYRSLEETAYL...YHY')], 'G4DCZ3': [Seq('MQAVTYSWARNHLAESINQVCDNHEAMVITKKNDRAAVLMSLEDYQALEETAYL...YHY')], 'B1G8Y4': [Seq('MNVLTYSEARAGFKPAMDEVCRDHAPMLITRQSGENVVMVSLEDFNAMQETLYL...FHY')], 'H4F813': [Seq('MDTIFFSKARAELAGLLDKVNEDAAAIEIIRRDKPSAVLMGKDEYDSLIETIHL...YHY')], 'A3DB70': [Seq('MAIYSFTEVRSNFKSICDTVVNDCEPVVIHRRGNENVVLFSESEFNSWKETLYL...YHY')], 'C2GL77': [Seq('MKTMSYSESRARYAEVLQSVVDNREEIVITRSGHESAVILSLDDYNSLRETAYL...YHW')], 'D8FZY2': [Seq('--QVTYTEAQANFDELCEQVISDRDAIIITRKDGENVALIAADELASLIETVYL...YHY')], 'I4FYY1': [Seq('VNIVNFSEARKNFKSVIDTVANDKNCTFIVRGDTEDVVIMSKSYYDSLMETVYL...YHY')], 'B0NMA5': [Seq('MRTANYSELRNNLKHYLDGVINDSEPLLVHRAGNESVVVISLDEYNSIKETEYI...YHY')], 'Q0AZT3': [Seq('MMAVNYSTLRENLKKYCDAANQDLEP-IVTRKNGGNVVLISESEYNNLLENLYI...RHY')], 'C7RIQ8': [Seq('MDAITYSAVRANLAKTMDRVCDDHEPLIITRNGEQSVVMLSLEDYNALEETAFL...YRY')], 'Q3K783': [Seq('MDTINYTTARAHLAETMDRVNEDCAPLLVTRQKGEPVVMMSLAEYNALEETAYL...FHY')], 'A1K735': [Seq('MDALTYSYTRQHLTAVMDQVNEDRAPVLVTRQNGKPVVMMSLDDYNALEETAYL...YHY')], 'G9EML3': [Seq('MDVLSYSSLRNNLASTLDKVNEDHVSILITRQNGKPAVIMSLEDFKSYEETAYL...FHY')], 'Q4BY83': [Seq('MQAITSSQAKEQLDELIEQVILDVEPTIVCNAQGKKAVLMSLDEFNAWQETLYL...---')], 'D9SFA4': [Seq('MKVVTYSYARNSLKSVLDGVVQDADVTIISRRDAEDAVVMSLDSYNSMMETLHL...FHY')], 'D6AJ93': [Seq('MRTMTYTESRAKYAETLSAVVDDREEVVVTRAGHEPVVIVALDEYESLKETAYQ...YHY')], 'C4FZK0': [Seq('MLAVNYTTLRENMKTYMDKVSDDYETMIVTRKNNKNVVILSEESYNNMLENMYV...YHY')], 'D9VYE0': [Seq('-MPISASEARKTLFPLIERVNNDHTPVRISSKNGDA-VLMSAEDYDSWQETVYL...YHY')], 'F0R1Q2': [Seq('MRTANYTDLRTNLKSYIDSVIDDCDTVVVNRGNGKGVVMISLDEYNSLKETEYI...YHY')], 'A5GD14': [Seq('MHAITYSEARHALKDVMDEACSNHEPILITRRKGENVVLLSLEDYESIMESEYL...YHY')], 'D5QT38': [Seq('MRSTSYSDLRKNLAATLDRVTADHEPVVITRDRGKAAVLISLEDFASYEETAHL...YHY')], 'I2EXY9': [Seq('MITANISDFRKDIKSYLDKVVQNFETLIINRGKDEGIVVMSLEEYNSLMATNHE...FHY')], 'G8R475': [Seq('MKVINYTELRLNLKRWLDLVVDDFEELIIKRKDNRDLVLISLEEYRSLKETQYL...YHY')], 'G8R7C4': [Seq('MEVTNLTDFRRNMKSYFERVFNLRVPLFISRPKGEDMVLMSKSDYESMQETFYL...YHY')], 'G8R6R0': [Seq('MISTNISDFRKDIKSYLNKVTQNFETLIINRGKESGVVVISLEEYNSLQATQHE...FHY')], 'G4K918': [Seq('MRTISYSEARQNLSTTMVQTVEDRAPILITRQNGTSCVLMSLEEYESLEETAYL...YHY')], 'Q3MBC7': [Seq('--QTNYTEACNNFDKIYEEAVNSREPVIVNREGAESVSVIPTAELNSIIETAYL...YHY')], 'F0S4D8': [Seq('ILITNVSDFRKDIKSYLDKVAKNFEPLIINRGKDSGIVVMSLEEYNSLMATNHE...FHY')], 'G4KM09': [Seq('MNSISGTSFRKNLSSVLNTVENDHVPYLIKRKNHKNIILLTEEEYESTKETLYL...FHY')], 'F3PQ57': [Seq('MRTANYTDLRANLKGYIDSVIDDYDTVIVNRGNGKGVVMISLDEYNSLKETEYI...HHY')], 'A0B1T5': [Seq('MRTIHFSDARGNLKTVIDQVVDDADVTLITRRDAPNAVIMSQDYYDSLMETVHL...YHY')], 'A1UQF1': [Seq('-MSISASEARQRLFPLLEQVNSDHEPVRITSKAGDA-VLMSAQDYDSWQETVYL...YHY')], 'C0B4N5': [Seq('MLAVNYTNLRDNMKSYMDQVTDDYET-IVTRKNNKNVVMMSEEAYNNLMENVYV...YHY')], 'D0GLL4': [Seq('MLAANFTTLRNNLKNYCDEVSDNNETVIVTRKKEKNIVILSLEKYNELEKAA--...GHY')], 'D0GJ07': [Seq('MIAVNYSSARNNFKDYCDKATDDFETIIITRKENKNVVLMSEDEYNNLMENLYI...NHY')], 'A6DJA3': [Seq('MNAMTYTEARQNLAKTMESVCNNHDPVIITSKRERSVVMISLEDYSAMEETSYL...YHY')], 'B9L8I3': [Seq('MEVVTMSEARNNLKEIFEKVYFNHDEVIIHRKGKESVVMISLDEFNSLKETEYL...YHY')], 'G9EHD0': [Seq('MDTISVNKFRDNLKTVVEQVISQHEPLK-TRRAG--FVVMSADDWEREQETLYV...GHY')], 'D4YQL6': [Seq('MKTMSYTESRANYAKVLDAVVNDREETIITRAGHEPVVIVSLTEYESLRETAHL...YHY')], 'A3VLT0': [Seq('MKYASSTDLRKNLSAMMDKVIDDHEPLMVTRTGGKPVVMISLEDYEAMDETTYL...YHY')], 'B2AJR8': [Seq('MRTIHFSDARSNLKAVMDQAIDDHDAVLITRRDAPNVVIMSQDQYDSWMETMHL...LHY')], 'C0BL77': [Seq('METTNPTELRKKLKEKLDAVSKDGETIIVHRSKAEDVVMIPLSEYNGWKETIHL...FHY')], 'F9UGS9': [Seq('MNTMTYTEIRRRLAETMERVCDDHAPIIVTRKNSRSVVVMSLEDFEALEETAYL...YHY')], 'E4NE45': [Seq('MKTMSATELRGNLAAALDAVESDAEELVITRAGHEPLVVVSLAEYASLRETDYL...YHY')], 'D5P5D6': [Seq('-MAISASEARQRLFPLLEQVNTDHEPVRITSKAGDA-VLMSAADYDSWQETVYL...YHY')], 'B6IVG5': [Seq('ARHVSATEFRQNLARHLDQVRDSRAPLVVTRQGEEGVVVLAEGEWAALQETLHV...RHY')], 'D8KBH4': [Seq('MESISYTAARSNLAKTMEQVCNDHAPIAITRKGESAVVMISMEDYQALEETAYL...YHY')], 'D8KBH2': [Seq('MDTISVNKFRENLKTLVEQVISRHEPLK-TRRAG--FVVLSAHDWEREQETLHV...GHY')], 'I3BXG7': [Seq('MEAISYSAFRKNLSSALDKVEQDRVPLLITRQNGTAAVLISLDEYNAYVETAHL...YHY')], 'I3BZ77': [Seq('MQAVTYSEARNNLATMLDRAVDDHETIIITRKHGRNAVLMSLEDFNAWKETEHL...YHY')], 'B6ERH5': [Seq('MRIVSFTEARNGLKSVLDGVVNDADCTVITRRDSEDAVVMSMDYYNSLMETIYL...YHY')], 'F3ZWG2': [Seq('MLAVNYSTIRNKLKDYCDKATDDNET-IITRKNEKNVVLMSLDEYNNLMENLFI...GHY')], 'H6N1E7': [Seq('-MSISASEARKLLFPLIEQVNDDRSAIEIVSRKGNA-VLMSADEYAAWQETAYL...YHY')], 'A0YN28': [Seq('FHQIALNDAIANLSQLCDRVVDDRDIVIITRSDGEKVALIAADELSSLMETAHL...YYY')], 'Q1NT11': [Seq('METISYSAFRSQLARTLDKVNDDHQPILITRQKGKPAVVISLEDYHAYEETAYL...YHY')], 'Q1NP70': [Seq('MLQTTYSHARATFASLCDQVTENREIVVIRRRKGESVAMIAADELASLIETSHL...YHY')], 'Q1NRQ5': [Seq('MEVSSYTEARNNLKAILDRACDDYEPTIVTRKSGQAAVVISLEEYNSLTETAYL...FHY')], 'I0QQY6': [Seq('MRTVSYSEARQNLSATMLQAVEDRAPILITRQNGTPCVLMSLEEYESLEETAYL...YHY')], 'E9DKU7': [Seq('MEAVVYSTFRNHLKDYMKKVNDEFEPLAVVNKNPGDIVVVSKSEWDSIQETLRI...DHY')], 'G7Q8B2': [Seq('MDAISYTHAREHLASTMEQVCNDHAPVVITRQKGRAVVMMSLEDYNAIEETAYL...YHY')], 'E6LIA8': [Seq('MEAVAYSNFRQNLKSYMKQVNEDADTLIVTSKDIETVVVLSKRDYDAMQETLRV...DHY')], 'H0JMW3': [Seq('MAAITATEARKNFFPLLEQVNKDHTPVEIVSKRGN-AVLMSKDDYDAMLETSYL...YHY')], 'E2N9J1': [Seq('MRTANYTDLRANLKGYIDSVIDDYDTVIINRGNGKGVVMISLDEYNSLKETEYI...YHY')], 'Q1QB64': [Seq('VRVISFSEARKHLKSVLDTVNDDANATIVTRRDADDAVVMSLDYYNSLMETVYL...YHY')], 'Q48B26': [Seq('MQILSFSQARAGLKQAMDDVCRDHEPAVITRQRGNPVVILSLDDYNSMAETMYL...FHY')], 'I4HDT2': [Seq('--KIDQTQAGSNFDKICDRVISTRQPIEITREGGESISLILTAELNSLIETAYL...YHY')], 'I4GYS5': [Seq('--YTSYTQAQEHFIQVLEQVELGNSIVIVQRQGHHDVALIAADELSALLEEVYL...YHY')], 'G5GP46': [Seq('MLAVNFSTLRSNLKSYCDAASRDAET-IVTRRNEENVVLMSLENYNNLVENVFL...GHY')], 'B9DKQ3': [Seq('MAVETYSNARKNFRSLIKQVNENSEAITIT-TNEENAVLMSETDYNAIMETLYL...YHY')], 'H8Z864': [Seq('MQAMPFNEITANLSAVMDRVHDDHEPLVVTRDNKKSVVLISLDDFNAWQETEYL...YHY')], 'H8Z7C9': [Seq('MQTITFSDARNQLKQVLDRVVCDADYTVITRRDAEDAVVMSLDSFNGLMETVHL...YHY')], 'H8Z4S2': [Seq('MNVITYSHARNALKTVLDTVVRDVDVTIISRRDAEGAVVMSLAHYNSLMETLHL...FHY')], 'H8YY62': [Seq('MYSTSVNKFRDGLKNFVEQAVNQHMPLR-TRRNG--FVVMSAEDWDRDQETLYV...GHY')], 'C7LS62': [Seq('MLQTTYTDARANFASLCDEVTENQEIVIIRRRKGQSVAMIDAAELQSLVESAHL...YHY')], 'B1WYH1': [Seq('--ITSPTEARNSLFQLLEKVAKDHQVCIINRNDGENVALISESDLRSLVETVYL...FHY')], 'C4KD69': [Seq('MEALTYSYTRTHLAQVMRSVNEDRAPVLVTTQRGKPVVIMSLDDYNALEETAYL...DHY')], 'C4KD62': [Seq('TIETTYSQAREQFKTLMDRAVDDREVVVVRRRSGGAVAMIAADELQSLMETAHL...YHY')], 'F3SQL7': [Seq('MAIVSYSIARKNFRSLIDKVNNDSDAVTIT-TNDSNAVLISESDYNAMMETLYL...YHY')]}\n"
          ]
        }
      ]
    },
    {
      "cell_type": "code",
      "source": [
        "import random\n",
        "\n",
        "def read_sequence(sequences):\n",
        "    # Flatten the list of sequences\n",
        "    all_sequences = [seq for seq_list in sequences.values() for seq in seq_list]\n",
        "    # Select a random sequence from the list\n",
        "    return random.choice(all_sequences)\n"
      ],
      "metadata": {
        "id": "yNwGEgXm270-"
      },
      "execution_count": 9,
      "outputs": []
    },
    {
      "cell_type": "code",
      "source": [
        "seq = read_sequence(sequences)\n",
        "print(seq)"
      ],
      "metadata": {
        "colab": {
          "base_uri": "https://localhost:8080/"
        },
        "id": "kLvZUcM73f-Z",
        "outputId": "30b223ae-f446-416f-da07-660f89e735c1"
      },
      "execution_count": 12,
      "outputs": [
        {
          "output_type": "stream",
          "name": "stdout",
          "text": [
            "MDVMTYSDARAQLKGVMDRAIHDKQEVIVTRKKGESVVVVSLETWNAVNETLHLLSTPKNASRLRASIAQLDAGTGEERELTEMKLVFSDHAWEDYQYWVSTNDKVRARINELIKQCKRTPFKGTGKPEPLKGDLTGWWSRRISQEDRMVYRVDSQSLEIAQLRFHY\n"
          ]
        }
      ]
    },
    {
      "cell_type": "code",
      "source": [
        "import numpy as np\n",
        "\n",
        "def one_hot_encoding(seq):\n",
        "    # Define the amino acid alphabet\n",
        "    amino_acids = 'ACDEFGHIKLMNPQRSTVWY'\n",
        "    # Create a dictionary to map each amino acid to its index in the alphabet\n",
        "    aa_to_index = {aa: i for i, aa in enumerate(amino_acids)}\n",
        "    # Initialize the one-hot encoded array\n",
        "    one_hot = np.zeros((len(seq), len(amino_acids)))\n",
        "    # Set the appropriate elements to 1\n",
        "    for i, aa in enumerate(seq):\n",
        "        if aa in aa_to_index:\n",
        "            one_hot[i, aa_to_index[aa]] = 1\n",
        "    return one_hot\n"
      ],
      "metadata": {
        "id": "7JT9bogS3gRY"
      },
      "execution_count": 14,
      "outputs": []
    },
    {
      "cell_type": "code",
      "source": [
        "one_hot = one_hot_encoding(seq)\n",
        "print(one_hot)"
      ],
      "metadata": {
        "colab": {
          "base_uri": "https://localhost:8080/"
        },
        "id": "3qbMStla33cs",
        "outputId": "8230e2b2-adc9-45c5-fced-7f575d337bbe"
      },
      "execution_count": 15,
      "outputs": [
        {
          "output_type": "stream",
          "name": "stdout",
          "text": [
            "[[0. 0. 0. ... 0. 0. 0.]\n",
            " [0. 0. 1. ... 0. 0. 0.]\n",
            " [0. 0. 0. ... 1. 0. 0.]\n",
            " ...\n",
            " [0. 0. 0. ... 0. 0. 0.]\n",
            " [0. 0. 0. ... 0. 0. 0.]\n",
            " [0. 0. 0. ... 0. 0. 1.]]\n"
          ]
        }
      ]
    },
    {
      "cell_type": "code",
      "source": [
        "from tensorflow.keras.layers import Input, Dense\n",
        "from tensorflow.keras.models import Model\n",
        "import numpy as np\n",
        "\n",
        "# Define the amino acid alphabet\n",
        "amino_acids = 'ACDEFGHIKLMNPQRSTVWY-'\n",
        "\n",
        "def one_hot_encoding(seq):\n",
        "    # Create a dictionary to map each amino acid to its index in the alphabet\n",
        "    aa_to_index = {aa: i for i, aa in enumerate(amino_acids)}\n",
        "    # Initialize the one-hot encoded array\n",
        "    one_hot = np.zeros((len(seq), len(amino_acids)))\n",
        "    # Set the appropriate elements to 1\n",
        "    for i, aa in enumerate(seq):\n",
        "        if aa in aa_to_index:\n",
        "            one_hot[i, aa_to_index[aa]] = 1\n",
        "    return one_hot\n",
        "\n",
        "# Define the size of the latent space\n",
        "latent_dim = 32\n",
        "\n",
        "# Define the architecture of the autoencoder\n",
        "input_seq = Input(shape=(None, len(amino_acids)))\n",
        "encoded = Dense(latent_dim, activation='relu')(input_seq)\n",
        "decoded = Dense(len(amino_acids), activation='softmax')(encoded)\n",
        "autoencoder = Model(input_seq, decoded)\n",
        "\n",
        "# Compile the autoencoder model\n",
        "autoencoder.compile(optimizer='adam', loss='categorical_crossentropy')\n"
      ],
      "metadata": {
        "id": "w5p9UGyg33gO"
      },
      "execution_count": 16,
      "outputs": []
    },
    {
      "cell_type": "code",
      "source": [
        "# Encode the sequence using one-hot encoding\n",
        "seq_encoded = one_hot_encoding(seq).reshape(1, -1, len(amino_acids))"
      ],
      "metadata": {
        "id": "zhGtT0u34RRU"
      },
      "execution_count": 18,
      "outputs": []
    },
    {
      "cell_type": "code",
      "source": [
        "# Train the autoencoder on the encoded sequence\n",
        "autoencoder.fit(seq_encoded, seq_encoded, epochs=100)"
      ],
      "metadata": {
        "colab": {
          "base_uri": "https://localhost:8080/"
        },
        "id": "jWZhT6g44RUT",
        "outputId": "6d380d87-4f53-4db0-bfc8-5e00041e09d4"
      },
      "execution_count": 19,
      "outputs": [
        {
          "output_type": "stream",
          "name": "stdout",
          "text": [
            "Epoch 1/100\n",
            "1/1 [==============================] - 1s 892ms/step - loss: 3.0518\n",
            "Epoch 2/100\n",
            "1/1 [==============================] - 0s 13ms/step - loss: 3.0450\n",
            "Epoch 3/100\n",
            "1/1 [==============================] - 0s 9ms/step - loss: 3.0383\n",
            "Epoch 4/100\n",
            "1/1 [==============================] - 0s 8ms/step - loss: 3.0316\n",
            "Epoch 5/100\n",
            "1/1 [==============================] - 0s 11ms/step - loss: 3.0249\n",
            "Epoch 6/100\n",
            "1/1 [==============================] - 0s 9ms/step - loss: 3.0182\n",
            "Epoch 7/100\n",
            "1/1 [==============================] - 0s 12ms/step - loss: 3.0115\n",
            "Epoch 8/100\n",
            "1/1 [==============================] - 0s 10ms/step - loss: 3.0048\n",
            "Epoch 9/100\n",
            "1/1 [==============================] - 0s 10ms/step - loss: 2.9981\n",
            "Epoch 10/100\n",
            "1/1 [==============================] - 0s 9ms/step - loss: 2.9914\n",
            "Epoch 11/100\n",
            "1/1 [==============================] - 0s 9ms/step - loss: 2.9847\n",
            "Epoch 12/100\n",
            "1/1 [==============================] - 0s 9ms/step - loss: 2.9780\n",
            "Epoch 13/100\n",
            "1/1 [==============================] - 0s 9ms/step - loss: 2.9713\n",
            "Epoch 14/100\n",
            "1/1 [==============================] - 0s 8ms/step - loss: 2.9646\n",
            "Epoch 15/100\n",
            "1/1 [==============================] - 0s 9ms/step - loss: 2.9580\n",
            "Epoch 16/100\n",
            "1/1 [==============================] - 0s 11ms/step - loss: 2.9513\n",
            "Epoch 17/100\n",
            "1/1 [==============================] - 0s 10ms/step - loss: 2.9447\n",
            "Epoch 18/100\n",
            "1/1 [==============================] - 0s 9ms/step - loss: 2.9380\n",
            "Epoch 19/100\n",
            "1/1 [==============================] - 0s 9ms/step - loss: 2.9314\n",
            "Epoch 20/100\n",
            "1/1 [==============================] - 0s 10ms/step - loss: 2.9248\n",
            "Epoch 21/100\n",
            "1/1 [==============================] - 0s 9ms/step - loss: 2.9181\n",
            "Epoch 22/100\n",
            "1/1 [==============================] - 0s 12ms/step - loss: 2.9115\n",
            "Epoch 23/100\n",
            "1/1 [==============================] - 0s 12ms/step - loss: 2.9048\n",
            "Epoch 24/100\n",
            "1/1 [==============================] - 0s 11ms/step - loss: 2.8981\n",
            "Epoch 25/100\n",
            "1/1 [==============================] - 0s 8ms/step - loss: 2.8915\n",
            "Epoch 26/100\n",
            "1/1 [==============================] - 0s 9ms/step - loss: 2.8848\n",
            "Epoch 27/100\n",
            "1/1 [==============================] - 0s 11ms/step - loss: 2.8781\n",
            "Epoch 28/100\n",
            "1/1 [==============================] - 0s 12ms/step - loss: 2.8714\n",
            "Epoch 29/100\n",
            "1/1 [==============================] - 0s 11ms/step - loss: 2.8647\n",
            "Epoch 30/100\n",
            "1/1 [==============================] - 0s 11ms/step - loss: 2.8579\n",
            "Epoch 31/100\n",
            "1/1 [==============================] - 0s 10ms/step - loss: 2.8512\n",
            "Epoch 32/100\n",
            "1/1 [==============================] - 0s 9ms/step - loss: 2.8443\n",
            "Epoch 33/100\n",
            "1/1 [==============================] - 0s 9ms/step - loss: 2.8375\n",
            "Epoch 34/100\n",
            "1/1 [==============================] - 0s 9ms/step - loss: 2.8306\n",
            "Epoch 35/100\n",
            "1/1 [==============================] - 0s 8ms/step - loss: 2.8237\n",
            "Epoch 36/100\n",
            "1/1 [==============================] - 0s 9ms/step - loss: 2.8168\n",
            "Epoch 37/100\n",
            "1/1 [==============================] - 0s 9ms/step - loss: 2.8099\n",
            "Epoch 38/100\n",
            "1/1 [==============================] - 0s 8ms/step - loss: 2.8029\n",
            "Epoch 39/100\n",
            "1/1 [==============================] - 0s 8ms/step - loss: 2.7959\n",
            "Epoch 40/100\n",
            "1/1 [==============================] - 0s 8ms/step - loss: 2.7888\n",
            "Epoch 41/100\n",
            "1/1 [==============================] - 0s 9ms/step - loss: 2.7817\n",
            "Epoch 42/100\n",
            "1/1 [==============================] - 0s 9ms/step - loss: 2.7746\n",
            "Epoch 43/100\n",
            "1/1 [==============================] - 0s 9ms/step - loss: 2.7674\n",
            "Epoch 44/100\n",
            "1/1 [==============================] - 0s 11ms/step - loss: 2.7601\n",
            "Epoch 45/100\n",
            "1/1 [==============================] - 0s 10ms/step - loss: 2.7529\n",
            "Epoch 46/100\n",
            "1/1 [==============================] - 0s 10ms/step - loss: 2.7455\n",
            "Epoch 47/100\n",
            "1/1 [==============================] - 0s 11ms/step - loss: 2.7381\n",
            "Epoch 48/100\n",
            "1/1 [==============================] - 0s 10ms/step - loss: 2.7307\n",
            "Epoch 49/100\n",
            "1/1 [==============================] - 0s 16ms/step - loss: 2.7231\n",
            "Epoch 50/100\n",
            "1/1 [==============================] - 0s 10ms/step - loss: 2.7156\n",
            "Epoch 51/100\n",
            "1/1 [==============================] - 0s 9ms/step - loss: 2.7080\n",
            "Epoch 52/100\n",
            "1/1 [==============================] - 0s 9ms/step - loss: 2.7003\n",
            "Epoch 53/100\n",
            "1/1 [==============================] - 0s 9ms/step - loss: 2.6925\n",
            "Epoch 54/100\n",
            "1/1 [==============================] - 0s 15ms/step - loss: 2.6847\n",
            "Epoch 55/100\n",
            "1/1 [==============================] - 0s 9ms/step - loss: 2.6768\n",
            "Epoch 56/100\n",
            "1/1 [==============================] - 0s 9ms/step - loss: 2.6689\n",
            "Epoch 57/100\n",
            "1/1 [==============================] - 0s 13ms/step - loss: 2.6609\n",
            "Epoch 58/100\n",
            "1/1 [==============================] - 0s 8ms/step - loss: 2.6529\n",
            "Epoch 59/100\n",
            "1/1 [==============================] - 0s 9ms/step - loss: 2.6448\n",
            "Epoch 60/100\n",
            "1/1 [==============================] - 0s 9ms/step - loss: 2.6367\n",
            "Epoch 61/100\n",
            "1/1 [==============================] - 0s 10ms/step - loss: 2.6285\n",
            "Epoch 62/100\n",
            "1/1 [==============================] - 0s 9ms/step - loss: 2.6203\n",
            "Epoch 63/100\n",
            "1/1 [==============================] - 0s 8ms/step - loss: 2.6120\n",
            "Epoch 64/100\n",
            "1/1 [==============================] - 0s 8ms/step - loss: 2.6036\n",
            "Epoch 65/100\n",
            "1/1 [==============================] - 0s 12ms/step - loss: 2.5952\n",
            "Epoch 66/100\n",
            "1/1 [==============================] - 0s 10ms/step - loss: 2.5868\n",
            "Epoch 67/100\n",
            "1/1 [==============================] - 0s 10ms/step - loss: 2.5783\n",
            "Epoch 68/100\n",
            "1/1 [==============================] - 0s 10ms/step - loss: 2.5697\n",
            "Epoch 69/100\n",
            "1/1 [==============================] - 0s 8ms/step - loss: 2.5611\n",
            "Epoch 70/100\n",
            "1/1 [==============================] - 0s 14ms/step - loss: 2.5524\n",
            "Epoch 71/100\n",
            "1/1 [==============================] - 0s 17ms/step - loss: 2.5436\n",
            "Epoch 72/100\n",
            "1/1 [==============================] - 0s 14ms/step - loss: 2.5348\n",
            "Epoch 73/100\n",
            "1/1 [==============================] - 0s 10ms/step - loss: 2.5260\n",
            "Epoch 74/100\n",
            "1/1 [==============================] - 0s 9ms/step - loss: 2.5170\n",
            "Epoch 75/100\n",
            "1/1 [==============================] - 0s 9ms/step - loss: 2.5081\n",
            "Epoch 76/100\n",
            "1/1 [==============================] - 0s 13ms/step - loss: 2.4990\n",
            "Epoch 77/100\n",
            "1/1 [==============================] - 0s 12ms/step - loss: 2.4899\n",
            "Epoch 78/100\n",
            "1/1 [==============================] - 0s 9ms/step - loss: 2.4807\n",
            "Epoch 79/100\n",
            "1/1 [==============================] - 0s 9ms/step - loss: 2.4714\n",
            "Epoch 80/100\n",
            "1/1 [==============================] - 0s 9ms/step - loss: 2.4620\n",
            "Epoch 81/100\n",
            "1/1 [==============================] - 0s 15ms/step - loss: 2.4526\n",
            "Epoch 82/100\n",
            "1/1 [==============================] - 0s 11ms/step - loss: 2.4431\n",
            "Epoch 83/100\n",
            "1/1 [==============================] - 0s 10ms/step - loss: 2.4335\n",
            "Epoch 84/100\n",
            "1/1 [==============================] - 0s 10ms/step - loss: 2.4239\n",
            "Epoch 85/100\n",
            "1/1 [==============================] - 0s 13ms/step - loss: 2.4142\n",
            "Epoch 86/100\n",
            "1/1 [==============================] - 0s 10ms/step - loss: 2.4044\n",
            "Epoch 87/100\n",
            "1/1 [==============================] - 0s 11ms/step - loss: 2.3945\n",
            "Epoch 88/100\n",
            "1/1 [==============================] - 0s 14ms/step - loss: 2.3846\n",
            "Epoch 89/100\n",
            "1/1 [==============================] - 0s 11ms/step - loss: 2.3746\n",
            "Epoch 90/100\n",
            "1/1 [==============================] - 0s 13ms/step - loss: 2.3645\n",
            "Epoch 91/100\n",
            "1/1 [==============================] - 0s 12ms/step - loss: 2.3543\n",
            "Epoch 92/100\n",
            "1/1 [==============================] - 0s 14ms/step - loss: 2.3440\n",
            "Epoch 93/100\n",
            "1/1 [==============================] - 0s 14ms/step - loss: 2.3337\n",
            "Epoch 94/100\n",
            "1/1 [==============================] - 0s 9ms/step - loss: 2.3233\n",
            "Epoch 95/100\n",
            "1/1 [==============================] - 0s 12ms/step - loss: 2.3129\n",
            "Epoch 96/100\n",
            "1/1 [==============================] - 0s 12ms/step - loss: 2.3024\n",
            "Epoch 97/100\n",
            "1/1 [==============================] - 0s 15ms/step - loss: 2.2918\n",
            "Epoch 98/100\n",
            "1/1 [==============================] - 0s 10ms/step - loss: 2.2812\n",
            "Epoch 99/100\n",
            "1/1 [==============================] - 0s 10ms/step - loss: 2.2705\n",
            "Epoch 100/100\n",
            "1/1 [==============================] - 0s 9ms/step - loss: 2.2597\n"
          ]
        },
        {
          "output_type": "execute_result",
          "data": {
            "text/plain": [
              "<keras.callbacks.History at 0x7f52b81d5ed0>"
            ]
          },
          "metadata": {},
          "execution_count": 19
        }
      ]
    },
    {
      "cell_type": "code",
      "source": [
        "# Use the autoencoder to encode and decode the sequence\n",
        "seq_decoded = autoencoder.predict(seq_encoded)"
      ],
      "metadata": {
        "colab": {
          "base_uri": "https://localhost:8080/"
        },
        "id": "XqNhNzaG4RX2",
        "outputId": "06bc07b4-e335-443a-d9bc-d97bc02d5f13"
      },
      "execution_count": 20,
      "outputs": [
        {
          "output_type": "stream",
          "name": "stdout",
          "text": [
            "1/1 [==============================] - 0s 124ms/step\n"
          ]
        }
      ]
    },
    {
      "cell_type": "code",
      "source": [
        "# Compute reconstruction error metrics\n",
        "cross_entropy = -np.mean(np.sum(seq_encoded * np.log(seq_decoded), axis=-1))\n",
        "same_aa_accuracy = np.mean(np.argmax(seq_encoded, axis=-1) == np.argmax(seq_decoded, axis=-1))\n",
        "most_common_aa_accuracy = np.mean(np.argmax(seq_encoded.sum(axis=0), axis=-1) == np.argmax(seq_decoded.sum(axis=0), axis=-1))"
      ],
      "metadata": {
        "id": "IIpsMeUq32VV"
      },
      "execution_count": 21,
      "outputs": []
    },
    {
      "cell_type": "code",
      "source": [
        "print(\"Cross-entropy:\", cross_entropy)\n",
        "print(\"Same amino acid accuracy:\", same_aa_accuracy)\n",
        "print(\"Most common amino acid accuracy:\", most_common_aa_accuracy)"
      ],
      "metadata": {
        "colab": {
          "base_uri": "https://localhost:8080/"
        },
        "id": "NAArhWLM42kD",
        "outputId": "c219ea1f-b5ca-4dfc-ebe5-b8babd934789"
      },
      "execution_count": 24,
      "outputs": [
        {
          "output_type": "stream",
          "name": "stdout",
          "text": [
            "Cross-entropy: 2.2488776995036415\n",
            "Same amino acid accuracy: 0.7544910179640718\n",
            "Most common amino acid accuracy: 0.7544910179640718\n"
          ]
        }
      ]
    },
    {
      "cell_type": "code",
      "source": [
        "#decoding\n",
        "\n",
        "from tensorflow.keras.layers import Input, Dense\n",
        "from tensorflow.keras.models import Model\n",
        "import numpy as np\n",
        "\n",
        "def one_hot_encoding(seq):\n",
        "    # Define the amino acid alphabet\n",
        "    amino_acids = 'ACDEFGHIKLMNPQRSTVWY-'\n",
        "    # Create a dictionary to map each amino acid to its index in the alphabet\n",
        "    aa_to_index = {aa: i for i, aa in enumerate(amino_acids)}\n",
        "    # Initialize the one-hot encoded array\n",
        "    one_hot = np.zeros((len(seq), len(amino_acids)))\n",
        "    # Set the appropriate elements to 1\n",
        "    for i, aa in enumerate(seq):\n",
        "        if aa in aa_to_index:\n",
        "            one_hot[i, aa_to_index[aa]] = 1\n",
        "    return one_hot\n",
        "\n",
        "def decode_sequence(one_hot_seq):\n",
        "    # Define the amino acid alphabet\n",
        "    amino_acids = 'ACDEFGHIKLMNPQRSTVWY-'\n",
        "    # Convert the one-hot encoded sequence back into an amino acid sequence\n",
        "    return ''.join([amino_acids[i] for i in np.argmax(one_hot_seq, axis=-1)])\n",
        "\n",
        "# Define the size of the latent space\n",
        "latent_dim = 32\n",
        "\n",
        "# Define the autoencoder architecture\n",
        "input_seq = Input(shape=(None, len(amino_acids)))\n",
        "encoded = Dense(latent_dim, activation='relu')(input_seq)\n",
        "decoded = Dense(len(amino_acids), activation='softmax')(encoded)\n",
        "autoencoder = Model(input_seq, decoded)\n",
        "\n",
        "# Compile the autoencoder model\n",
        "autoencoder.compile(optimizer='adam', loss='categorical_crossentropy')\n",
        "\n",
        "\n",
        "# Encode the sequence using one-hot encoding\n",
        "seq_encoded = one_hot_encoding(seq).reshape(1, -1, len(amino_acids))\n",
        "\n",
        "# Train the autoencoder on the encoded sequence\n",
        "autoencoder.fit(seq_encoded, seq_encoded, epochs=100)\n",
        "\n",
        "\n"
      ],
      "metadata": {
        "colab": {
          "base_uri": "https://localhost:8080/"
        },
        "id": "mHqKlLAz42mh",
        "outputId": "fd95e916-76fa-4211-8dd8-90992c039e8a"
      },
      "execution_count": 31,
      "outputs": [
        {
          "output_type": "stream",
          "name": "stdout",
          "text": [
            "Epoch 1/100\n",
            "1/1 [==============================] - 1s 619ms/step - loss: 3.0266\n",
            "Epoch 2/100\n",
            "1/1 [==============================] - 0s 10ms/step - loss: 3.0195\n",
            "Epoch 3/100\n",
            "1/1 [==============================] - 0s 12ms/step - loss: 3.0124\n",
            "Epoch 4/100\n",
            "1/1 [==============================] - 0s 11ms/step - loss: 3.0053\n",
            "Epoch 5/100\n",
            "1/1 [==============================] - 0s 10ms/step - loss: 2.9983\n",
            "Epoch 6/100\n",
            "1/1 [==============================] - 0s 10ms/step - loss: 2.9913\n",
            "Epoch 7/100\n",
            "1/1 [==============================] - 0s 12ms/step - loss: 2.9843\n",
            "Epoch 8/100\n",
            "1/1 [==============================] - 0s 11ms/step - loss: 2.9773\n",
            "Epoch 9/100\n",
            "1/1 [==============================] - 0s 12ms/step - loss: 2.9704\n",
            "Epoch 10/100\n",
            "1/1 [==============================] - 0s 12ms/step - loss: 2.9634\n",
            "Epoch 11/100\n",
            "1/1 [==============================] - 0s 11ms/step - loss: 2.9565\n",
            "Epoch 12/100\n",
            "1/1 [==============================] - 0s 13ms/step - loss: 2.9496\n",
            "Epoch 13/100\n",
            "1/1 [==============================] - 0s 9ms/step - loss: 2.9426\n",
            "Epoch 14/100\n",
            "1/1 [==============================] - 0s 10ms/step - loss: 2.9357\n",
            "Epoch 15/100\n",
            "1/1 [==============================] - 0s 14ms/step - loss: 2.9289\n",
            "Epoch 16/100\n",
            "1/1 [==============================] - 0s 10ms/step - loss: 2.9220\n",
            "Epoch 17/100\n",
            "1/1 [==============================] - 0s 10ms/step - loss: 2.9151\n",
            "Epoch 18/100\n",
            "1/1 [==============================] - 0s 11ms/step - loss: 2.9083\n",
            "Epoch 19/100\n",
            "1/1 [==============================] - 0s 12ms/step - loss: 2.9014\n",
            "Epoch 20/100\n",
            "1/1 [==============================] - 0s 12ms/step - loss: 2.8945\n",
            "Epoch 21/100\n",
            "1/1 [==============================] - 0s 9ms/step - loss: 2.8876\n",
            "Epoch 22/100\n",
            "1/1 [==============================] - 0s 9ms/step - loss: 2.8808\n",
            "Epoch 23/100\n",
            "1/1 [==============================] - 0s 9ms/step - loss: 2.8739\n",
            "Epoch 24/100\n",
            "1/1 [==============================] - 0s 9ms/step - loss: 2.8669\n",
            "Epoch 25/100\n",
            "1/1 [==============================] - 0s 10ms/step - loss: 2.8600\n",
            "Epoch 26/100\n",
            "1/1 [==============================] - 0s 9ms/step - loss: 2.8531\n",
            "Epoch 27/100\n",
            "1/1 [==============================] - 0s 10ms/step - loss: 2.8461\n",
            "Epoch 28/100\n",
            "1/1 [==============================] - 0s 10ms/step - loss: 2.8392\n",
            "Epoch 29/100\n",
            "1/1 [==============================] - 0s 9ms/step - loss: 2.8323\n",
            "Epoch 30/100\n",
            "1/1 [==============================] - 0s 10ms/step - loss: 2.8254\n",
            "Epoch 31/100\n",
            "1/1 [==============================] - 0s 10ms/step - loss: 2.8185\n",
            "Epoch 32/100\n",
            "1/1 [==============================] - 0s 9ms/step - loss: 2.8115\n",
            "Epoch 33/100\n",
            "1/1 [==============================] - 0s 10ms/step - loss: 2.8045\n",
            "Epoch 34/100\n",
            "1/1 [==============================] - 0s 9ms/step - loss: 2.7975\n",
            "Epoch 35/100\n",
            "1/1 [==============================] - 0s 10ms/step - loss: 2.7905\n",
            "Epoch 36/100\n",
            "1/1 [==============================] - 0s 11ms/step - loss: 2.7835\n",
            "Epoch 37/100\n",
            "1/1 [==============================] - 0s 9ms/step - loss: 2.7764\n",
            "Epoch 38/100\n",
            "1/1 [==============================] - 0s 12ms/step - loss: 2.7694\n",
            "Epoch 39/100\n",
            "1/1 [==============================] - 0s 8ms/step - loss: 2.7622\n",
            "Epoch 40/100\n",
            "1/1 [==============================] - 0s 8ms/step - loss: 2.7551\n",
            "Epoch 41/100\n",
            "1/1 [==============================] - 0s 13ms/step - loss: 2.7479\n",
            "Epoch 42/100\n",
            "1/1 [==============================] - 0s 10ms/step - loss: 2.7407\n",
            "Epoch 43/100\n",
            "1/1 [==============================] - 0s 8ms/step - loss: 2.7334\n",
            "Epoch 44/100\n",
            "1/1 [==============================] - 0s 8ms/step - loss: 2.7261\n",
            "Epoch 45/100\n",
            "1/1 [==============================] - 0s 9ms/step - loss: 2.7188\n",
            "Epoch 46/100\n",
            "1/1 [==============================] - 0s 10ms/step - loss: 2.7115\n",
            "Epoch 47/100\n",
            "1/1 [==============================] - 0s 10ms/step - loss: 2.7040\n",
            "Epoch 48/100\n",
            "1/1 [==============================] - 0s 10ms/step - loss: 2.6966\n",
            "Epoch 49/100\n",
            "1/1 [==============================] - 0s 10ms/step - loss: 2.6891\n",
            "Epoch 50/100\n",
            "1/1 [==============================] - 0s 11ms/step - loss: 2.6816\n",
            "Epoch 51/100\n",
            "1/1 [==============================] - 0s 10ms/step - loss: 2.6740\n",
            "Epoch 52/100\n",
            "1/1 [==============================] - 0s 11ms/step - loss: 2.6663\n",
            "Epoch 53/100\n",
            "1/1 [==============================] - 0s 11ms/step - loss: 2.6586\n",
            "Epoch 54/100\n",
            "1/1 [==============================] - 0s 10ms/step - loss: 2.6509\n",
            "Epoch 55/100\n",
            "1/1 [==============================] - 0s 15ms/step - loss: 2.6431\n",
            "Epoch 56/100\n",
            "1/1 [==============================] - 0s 12ms/step - loss: 2.6353\n",
            "Epoch 57/100\n",
            "1/1 [==============================] - 0s 10ms/step - loss: 2.6274\n",
            "Epoch 58/100\n",
            "1/1 [==============================] - 0s 8ms/step - loss: 2.6195\n",
            "Epoch 59/100\n",
            "1/1 [==============================] - 0s 10ms/step - loss: 2.6116\n",
            "Epoch 60/100\n",
            "1/1 [==============================] - 0s 10ms/step - loss: 2.6036\n",
            "Epoch 61/100\n",
            "1/1 [==============================] - 0s 9ms/step - loss: 2.5955\n",
            "Epoch 62/100\n",
            "1/1 [==============================] - 0s 9ms/step - loss: 2.5874\n",
            "Epoch 63/100\n",
            "1/1 [==============================] - 0s 9ms/step - loss: 2.5793\n",
            "Epoch 64/100\n",
            "1/1 [==============================] - 0s 10ms/step - loss: 2.5711\n",
            "Epoch 65/100\n",
            "1/1 [==============================] - 0s 11ms/step - loss: 2.5629\n",
            "Epoch 66/100\n",
            "1/1 [==============================] - 0s 10ms/step - loss: 2.5546\n",
            "Epoch 67/100\n",
            "1/1 [==============================] - 0s 12ms/step - loss: 2.5462\n",
            "Epoch 68/100\n",
            "1/1 [==============================] - 0s 10ms/step - loss: 2.5378\n",
            "Epoch 69/100\n",
            "1/1 [==============================] - 0s 10ms/step - loss: 2.5294\n",
            "Epoch 70/100\n",
            "1/1 [==============================] - 0s 9ms/step - loss: 2.5209\n",
            "Epoch 71/100\n",
            "1/1 [==============================] - 0s 9ms/step - loss: 2.5123\n",
            "Epoch 72/100\n",
            "1/1 [==============================] - 0s 9ms/step - loss: 2.5037\n",
            "Epoch 73/100\n",
            "1/1 [==============================] - 0s 9ms/step - loss: 2.4950\n",
            "Epoch 74/100\n",
            "1/1 [==============================] - 0s 11ms/step - loss: 2.4863\n",
            "Epoch 75/100\n",
            "1/1 [==============================] - 0s 10ms/step - loss: 2.4774\n",
            "Epoch 76/100\n",
            "1/1 [==============================] - 0s 9ms/step - loss: 2.4686\n",
            "Epoch 77/100\n",
            "1/1 [==============================] - 0s 10ms/step - loss: 2.4597\n",
            "Epoch 78/100\n",
            "1/1 [==============================] - 0s 10ms/step - loss: 2.4507\n",
            "Epoch 79/100\n",
            "1/1 [==============================] - 0s 10ms/step - loss: 2.4417\n",
            "Epoch 80/100\n",
            "1/1 [==============================] - 0s 10ms/step - loss: 2.4326\n",
            "Epoch 81/100\n",
            "1/1 [==============================] - 0s 10ms/step - loss: 2.4235\n",
            "Epoch 82/100\n",
            "1/1 [==============================] - 0s 9ms/step - loss: 2.4144\n",
            "Epoch 83/100\n",
            "1/1 [==============================] - 0s 10ms/step - loss: 2.4051\n",
            "Epoch 84/100\n",
            "1/1 [==============================] - 0s 10ms/step - loss: 2.3959\n",
            "Epoch 85/100\n",
            "1/1 [==============================] - 0s 10ms/step - loss: 2.3865\n",
            "Epoch 86/100\n",
            "1/1 [==============================] - 0s 9ms/step - loss: 2.3771\n",
            "Epoch 87/100\n",
            "1/1 [==============================] - 0s 16ms/step - loss: 2.3676\n",
            "Epoch 88/100\n",
            "1/1 [==============================] - 0s 12ms/step - loss: 2.3581\n",
            "Epoch 89/100\n",
            "1/1 [==============================] - 0s 9ms/step - loss: 2.3486\n",
            "Epoch 90/100\n",
            "1/1 [==============================] - 0s 10ms/step - loss: 2.3389\n",
            "Epoch 91/100\n",
            "1/1 [==============================] - 0s 9ms/step - loss: 2.3293\n",
            "Epoch 92/100\n",
            "1/1 [==============================] - 0s 9ms/step - loss: 2.3196\n",
            "Epoch 93/100\n",
            "1/1 [==============================] - 0s 11ms/step - loss: 2.3098\n",
            "Epoch 94/100\n",
            "1/1 [==============================] - 0s 10ms/step - loss: 2.3000\n",
            "Epoch 95/100\n",
            "1/1 [==============================] - 0s 12ms/step - loss: 2.2901\n",
            "Epoch 96/100\n",
            "1/1 [==============================] - 0s 12ms/step - loss: 2.2802\n",
            "Epoch 97/100\n",
            "1/1 [==============================] - 0s 10ms/step - loss: 2.2702\n",
            "Epoch 98/100\n",
            "1/1 [==============================] - 0s 9ms/step - loss: 2.2602\n",
            "Epoch 99/100\n",
            "1/1 [==============================] - 0s 9ms/step - loss: 2.2501\n",
            "Epoch 100/100\n",
            "1/1 [==============================] - 0s 9ms/step - loss: 2.2400\n"
          ]
        },
        {
          "output_type": "execute_result",
          "data": {
            "text/plain": [
              "<keras.callbacks.History at 0x7f52b0139090>"
            ]
          },
          "metadata": {},
          "execution_count": 31
        }
      ]
    },
    {
      "cell_type": "code",
      "source": [
        "# Use the autoencoder to encode and decode the sequence\n",
        "seq_decoded = autoencoder.predict(seq_encoded)"
      ],
      "metadata": {
        "colab": {
          "base_uri": "https://localhost:8080/"
        },
        "id": "945Ir2lZ42op",
        "outputId": "7694a652-f685-40b4-a5af-176640b10e4f"
      },
      "execution_count": 32,
      "outputs": [
        {
          "output_type": "stream",
          "name": "stdout",
          "text": [
            "1/1 [==============================] - 0s 95ms/step\n"
          ]
        }
      ]
    },
    {
      "cell_type": "code",
      "source": [
        "# Compute reconstruction error metrics\n",
        "cross_entropy = -np.mean(np.sum(seq_encoded * np.log(seq_decoded), axis=-1))\n",
        "same_aa_accuracy = np.mean(np.argmax(seq_encoded, axis=-1) == np.argmax(seq_decoded, axis=-1))\n",
        "most_common_aa_accuracy = np.mean(np.argmax(seq_encoded.sum(axis=0), axis=-1) == np.argmax(seq_decoded.sum(axis=0), axis=-1))\n",
        "\n",
        "print(\"Cross-Entropy:\", cross_entropy)\n",
        "print(\"Accuracy (Same aa):\", same_aa_accuracy)\n",
        "print(\"Accuracy (Mode aa):\", most_common_aa_accuracy)\n"
      ],
      "metadata": {
        "colab": {
          "base_uri": "https://localhost:8080/"
        },
        "id": "-9F3qxYT42rV",
        "outputId": "468a0256-c74c-4e0e-f693-1f4cf710614b"
      },
      "execution_count": 33,
      "outputs": [
        {
          "output_type": "stream",
          "name": "stdout",
          "text": [
            "Cross-Entropy: 2.229750713902319\n",
            "Accuracy (Same aa): 0.874251497005988\n",
            "Accuracy (Mode aa): 0.874251497005988\n"
          ]
        }
      ]
    },
    {
      "cell_type": "code",
      "source": [
        "# Decode and print the original and reconstructed sequences\n",
        "print(\"Original sequence:\")\n",
        "print(decode_sequence(seq_encoded[0]))\n",
        "print(\"Reconstructed sequence:\")\n",
        "print(decode_sequence(seq_decoded[0]))\n"
      ],
      "metadata": {
        "colab": {
          "base_uri": "https://localhost:8080/"
        },
        "id": "ulRs2c4Y42t9",
        "outputId": "88c80288-23ee-40b3-b8f8-05e84bb836b9"
      },
      "execution_count": 34,
      "outputs": [
        {
          "output_type": "stream",
          "name": "stdout",
          "text": [
            "Original sequence:\n",
            "MDVMTYSDARAQLKGVMDRAIHDKQEVIVTRKKGESVVVVSLETWNAVNETLHLLSTPKNASRLRASIAQLDAGTGEERELTEMKLVFSDHAWEDYQYWVSTNDKVRARINELIKQCKRTPFKGTGKPEPLKGDLTGWWSRRISQEDRMVYRVDSQSLEIAQLRFHY\n",
            "Reconstructed sequence:\n",
            "MDVMTYSDARAQLKRVMDRAIHDKQEVIVTRKKRESVVVVSLETRNAVNETLHLLSTIKNASRLRASIAQLDARTREERELTEMKLVESDHAREDYQYRVSTNDKVRARINELIKQLKRTIEKRTRKIEILKRDLTRRRSRRISQEDRMVYRVDSQSLEIAQLREHY\n"
          ]
        }
      ]
    }
  ]
}